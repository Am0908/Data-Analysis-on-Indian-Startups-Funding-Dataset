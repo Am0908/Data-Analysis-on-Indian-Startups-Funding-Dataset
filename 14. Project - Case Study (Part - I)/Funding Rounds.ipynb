{
 "cells": [
  {
   "cell_type": "code",
   "execution_count": 1,
   "id": "7cc4f997",
   "metadata": {},
   "outputs": [],
   "source": [
    "import numpy as np\n",
    "import pandas as pd\n",
    "import matplotlib.pyplot as plt"
   ]
  },
  {
   "cell_type": "code",
   "execution_count": 2,
   "id": "0035cf1d",
   "metadata": {},
   "outputs": [
    {
     "ename": "NameError",
     "evalue": "name 'data' is not defined",
     "output_type": "error",
     "traceback": [
      "\u001b[0;31m---------------------------------------------------------------------------\u001b[0m",
      "\u001b[0;31mNameError\u001b[0m                                 Traceback (most recent call last)",
      "\u001b[0;32m/var/folders/7d/63l0skbs49v541z_z6234d700000gn/T/ipykernel_2741/1090070244.py\u001b[0m in \u001b[0;36m<module>\u001b[0;34m\u001b[0m\n\u001b[1;32m      1\u001b[0m \u001b[0;31m# copying the original data\u001b[0m\u001b[0;34m\u001b[0m\u001b[0;34m\u001b[0m\u001b[0m\n\u001b[0;32m----> 2\u001b[0;31m \u001b[0md\u001b[0m \u001b[0;34m=\u001b[0m \u001b[0mdata\u001b[0m\u001b[0;34m.\u001b[0m\u001b[0mcopy\u001b[0m\u001b[0;34m(\u001b[0m\u001b[0;34m)\u001b[0m\u001b[0;34m\u001b[0m\u001b[0;34m\u001b[0m\u001b[0m\n\u001b[0m\u001b[1;32m      3\u001b[0m \u001b[0md\u001b[0m \u001b[0;34m=\u001b[0m \u001b[0md\u001b[0m\u001b[0;34m[\u001b[0m\u001b[0;34m[\u001b[0m\u001b[0;34m'StartupName'\u001b[0m\u001b[0;34m]\u001b[0m\u001b[0;34m]\u001b[0m\u001b[0;34m.\u001b[0m\u001b[0mcopy\u001b[0m\u001b[0;34m(\u001b[0m\u001b[0;34m)\u001b[0m\u001b[0;34m\u001b[0m\u001b[0;34m\u001b[0m\u001b[0m\n",
      "\u001b[0;31mNameError\u001b[0m: name 'data' is not defined"
     ]
    }
   ],
   "source": [
    "# copying the original data\n",
    "d = data.copy()\n",
    "d = d[['StartupName']].copy()"
   ]
  },
  {
   "cell_type": "code",
   "execution_count": null,
   "id": "171caa69",
   "metadata": {},
   "outputs": [],
   "source": [
    "# replacing the wrong names\n",
    "d['StartupName'].replace(\"Ola Cabs\", \"Ola\", inplace = True)\n",
    "d['StartupName'].replace(\"Olacabs\", \"Ola\", inplace = True)\n",
    "d['StartupName'].replace(\"Flipkart.com\", \"Flipkart\", inplace = True)\n",
    "d['StartupName'].replace(\"Oyo Rooms\", \"Oyo\", inplace = True)\n",
    "d['StartupName'].replace(\"Oyorooms\", \"Oyo\", inplace = True)\n",
    "d['StartupName'].replace(\"OyoRooms\", \"Oyo\", inplace = True)\n",
    "d['StartupName'].replace(\"Paytm Marketplace\", \"Paytm\", inplace = True)\n",
    "\n",
    "# Used str.contains()  function to find out the wrong names and then replaced them.\n",
    "# paytm = d[d['StartupName'].str.contains('Paytm')]\n",
    "# paytm"
   ]
  },
  {
   "cell_type": "code",
   "execution_count": null,
   "id": "7dc3a9fd",
   "metadata": {},
   "outputs": [],
   "source": [
    "# count of funding rounds of all the startups in sorted order\n",
    "d = d['StartupName'].value_counts()\n",
    "d"
   ]
  },
  {
   "cell_type": "code",
   "execution_count": null,
   "id": "e235a0e4",
   "metadata": {},
   "outputs": [],
   "source": [
    "# only top 5 startups are to be fetched which are funded maximum number of times\n",
    "d = d.head(5)\n",
    "startup = d.index\n",
    "num_fund = d.values\n",
    "t = zip(startup, num_fund)\n",
    "tabl = pd.DataFrame(t, columns = ['Startup', 'No of funding rounds'])\n",
    "tabl"
   ]
  },
  {
   "cell_type": "code",
   "execution_count": null,
   "id": "b52238f4",
   "metadata": {},
   "outputs": [],
   "source": [
    "# This pie chart shows the 5 startups and the percentage of how many times each startup received fundings \n",
    "explode = [0.1, 0, 0, 0, 0]\n",
    "plt.pie(d.values, labels = d.index, autopct = \"%.1f%%\", counterclock = False, startangle = 100, explode = explode)\n",
    "plt.title(\"5 startups who received the most number of funding rounds\")\n",
    "plt.show()"
   ]
  },
  {
   "cell_type": "code",
   "execution_count": null,
   "id": "3172e3cd",
   "metadata": {},
   "outputs": [],
   "source": [
    "plt.bar(d.index, d.values, width = 0.59)\n",
    "plt.xticks(rotation = 40)\n",
    "plt.title(\"5 startups who received the most number of funding rounds\")\n",
    "plt.show()"
   ]
  }
 ],
 "metadata": {
  "kernelspec": {
   "display_name": "Python 3 (ipykernel)",
   "language": "python",
   "name": "python3"
  },
  "language_info": {
   "codemirror_mode": {
    "name": "ipython",
    "version": 3
   },
   "file_extension": ".py",
   "mimetype": "text/x-python",
   "name": "python",
   "nbconvert_exporter": "python",
   "pygments_lexer": "ipython3",
   "version": "3.9.7"
  }
 },
 "nbformat": 4,
 "nbformat_minor": 5
}
