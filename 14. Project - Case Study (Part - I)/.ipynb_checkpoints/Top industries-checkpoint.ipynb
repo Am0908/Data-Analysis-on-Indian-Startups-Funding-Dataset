{
 "cells": [
  {
   "cell_type": "code",
   "execution_count": 2,
   "id": "541dc53d",
   "metadata": {},
   "outputs": [
    {
     "name": "stdout",
     "output_type": "stream",
     "text": [
      "Ecommerce 40.53\n",
      "Consumer Internet 35.95\n",
      "Technology 10.45\n",
      "Online Marketplace 6.63\n",
      "E-Commerce & M-Commerce platform 6.44\n"
     ]
    }
   ],
   "source": [
    "import pandas as pd\n",
    "import numpy as np\n",
    "\n",
    "df=pd.read_csv('startup_funding.csv', encoding='utf-8')\n",
    "df.dropna(subset=['IndustryVertical','AmountInUSD'],inplace=True)\n",
    "df['IndustryVertical'].replace('ecommerce','Ecommerce',inplace=True)\n",
    "df['IndustryVertical'].replace('ECommerce','Ecommerce',inplace=True)\n",
    "df['IndustryVertical'].replace('eCommerce','Ecommerce',inplace=True)\n",
    "\n",
    "def amount_generator(amt):\n",
    "    amt = amt.split(',')\n",
    "    ans=\"\"\n",
    "    for i in range(len(amt)):\n",
    "        ans = ans+amt[i].strip()\n",
    "    return int(ans)\n",
    "\n",
    "df['AmountInUSD']=df['AmountInUSD'].apply(amount_generator)\n",
    "\n",
    "iv=list(df.IndustryVertical)\n",
    "amt=list(df.AmountInUSD)\n",
    "d={}\n",
    "\n",
    "for i in range(len(iv)):\n",
    "    d[iv[i]]=d.get(iv[i],0)+amt[i]\n",
    "    \n",
    "key=list(d.keys())\n",
    "values=list(d.values())\n",
    "\n",
    "key=np.array(key)\n",
    "values=np.array(values)\n",
    "\n",
    "ind=values.argsort()[::-1]\n",
    "ind=ind[:5]\n",
    "\n",
    "key=key[ind]\n",
    "values=values[ind]\n",
    "\n",
    "values=(values/sum(values))*100\n",
    "values=np.round(values,decimals=2)\n",
    "\n",
    "for i in range(len(key)):\n",
    "    print(key[i],values[i])"
   ]
  },
  {
   "cell_type": "code",
   "execution_count": null,
   "id": "c94ec762",
   "metadata": {},
   "outputs": [],
   "source": []
  }
 ],
 "metadata": {
  "kernelspec": {
   "display_name": "Python 3 (ipykernel)",
   "language": "python",
   "name": "python3"
  },
  "language_info": {
   "codemirror_mode": {
    "name": "ipython",
    "version": 3
   },
   "file_extension": ".py",
   "mimetype": "text/x-python",
   "name": "python",
   "nbconvert_exporter": "python",
   "pygments_lexer": "ipython3",
   "version": "3.9.7"
  }
 },
 "nbformat": 4,
 "nbformat_minor": 5
}
