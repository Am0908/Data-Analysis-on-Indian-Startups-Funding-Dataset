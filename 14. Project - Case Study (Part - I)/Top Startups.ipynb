{
 "cells": [
  {
   "cell_type": "code",
   "execution_count": 97,
   "id": "61a2675d",
   "metadata": {},
   "outputs": [],
   "source": [
    "import numpy as np\n",
    "import pandas as pd\n",
    "import matplotlib.pyplot as plt"
   ]
  },
  {
   "cell_type": "code",
   "execution_count": 98,
   "id": "56a7890f",
   "metadata": {},
   "outputs": [],
   "source": [
    "data = pd.read_csv(\"startup_funding.csv\")\n",
    "d = data.copy()"
   ]
  },
  {
   "cell_type": "code",
   "execution_count": 99,
   "id": "1550c360",
   "metadata": {},
   "outputs": [
    {
     "name": "stdout",
     "output_type": "stream",
     "text": [
      "Paytm\n",
      "Flipkart\n",
      "Ola\n",
      "Snapdeal\n",
      "Oyo\n"
     ]
    }
   ],
   "source": [
    "d.dropna(subset=['StartupName','AmountInUSD'],inplace=True)\n",
    "d['StartupName'].replace('Flipkart.com','Flipkart',inplace=True)\n",
    "d['StartupName'].replace('Ola Cabs','Ola',inplace=True)\n",
    "d['StartupName'].replace('Olacabs','Ola',inplace=True)\n",
    "d['StartupName'].replace('Ola Cabs','Ola',inplace=True)\n",
    "d['StartupName'].replace('Olacabs','Ola',inplace=True)\n",
    "d['StartupName'].replace('Oyo Rooms','Oyo',inplace=True)\n",
    "d['StartupName'].replace('OyoRooms','Oyo',inplace=True)\n",
    "d['StartupName'].replace('OYO Rooms','Oyo',inplace=True)\n",
    "d['StartupName'].replace('Paytm Marketplace','Paytm',inplace=True)\n",
    "\n",
    "\n",
    "d.dropna(subset=['StartupName','AmountInUSD'],inplace=True)\n",
    "def amount_generator(amt):\n",
    "    amt = amt.split(',')\n",
    "    ans=\"\"\n",
    "    for i in range(len(amt)):\n",
    "        ans = ans+amt[i].strip()\n",
    "    return int(ans)\n",
    "\n",
    "d['AmountInUSD']=d['AmountInUSD'].apply(amount_generator)\n",
    "\n",
    "st=list(d.StartupName)\n",
    "amt=list(d.AmountInUSD)\n",
    "d={}\n",
    "\n",
    "for i in range(len(st)):\n",
    "    d[st[i]]=d.get(st[i],0)+amt[i]\n",
    "    \n",
    "key=list(d.keys())\n",
    "values=list(d.values())\n",
    "\n",
    "key=np.array(key)\n",
    "values=np.array(values)\n",
    "\n",
    "ind=values.argsort()[::-1]\n",
    "ind=ind[:5]\n",
    "\n",
    "key=key[ind]\n",
    "values=values[ind]\n",
    "\n",
    "for i in range(len(key)):\n",
    "    print(key[i])"
   ]
  },
  {
   "cell_type": "code",
   "execution_count": 62,
   "id": "30738d52",
   "metadata": {},
   "outputs": [],
   "source": []
  },
  {
   "cell_type": "code",
   "execution_count": 77,
   "id": "85648d68",
   "metadata": {},
   "outputs": [],
   "source": []
  },
  {
   "cell_type": "code",
   "execution_count": null,
   "id": "5b516f39",
   "metadata": {},
   "outputs": [],
   "source": []
  },
  {
   "cell_type": "code",
   "execution_count": null,
   "id": "f057f79a",
   "metadata": {},
   "outputs": [],
   "source": []
  }
 ],
 "metadata": {
  "kernelspec": {
   "display_name": "Python 3 (ipykernel)",
   "language": "python",
   "name": "python3"
  },
  "language_info": {
   "codemirror_mode": {
    "name": "ipython",
    "version": 3
   },
   "file_extension": ".py",
   "mimetype": "text/x-python",
   "name": "python",
   "nbconvert_exporter": "python",
   "pygments_lexer": "ipython3",
   "version": "3.9.7"
  }
 },
 "nbformat": 4,
 "nbformat_minor": 5
}
