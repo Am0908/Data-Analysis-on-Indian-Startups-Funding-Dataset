{
 "cells": [
  {
   "cell_type": "markdown",
   "id": "b96df892",
   "metadata": {},
   "source": [
    "# Question 5: \n",
    "Find the investors who have invested maximum number of times.<br>\n",
    "Print the investor name and number of times invested as integer value.<br>\n"
   ]
  },
  {
   "cell_type": "code",
   "execution_count": 47,
   "id": "141eafed",
   "metadata": {},
   "outputs": [],
   "source": [
    "import numpy as np\n",
    "import pandas as pd\n",
    "import matplotlib.pyplot as plt"
   ]
  },
  {
   "cell_type": "code",
   "execution_count": 48,
   "id": "be383527",
   "metadata": {},
   "outputs": [],
   "source": [
    "data = pd.read_csv(\"startup_funding.csv\")\n",
    "d = data.copy()\n",
    "d.dropna(subset=['InvestorsName'],inplace=True)"
   ]
  },
  {
   "cell_type": "code",
   "execution_count": 67,
   "id": "aa9a2369",
   "metadata": {},
   "outputs": [
    {
     "name": "stdout",
     "output_type": "stream",
     "text": [
      "Sequoia Capital with total 64 number of investments\n",
      "\n"
     ]
    }
   ],
   "source": [
    "s = {}      # investors name (key) with total no of fundings made by them (value).\n",
    "\n",
    "def investor_name(invest):\n",
    "    l = invest.split(',') # list of words separated by ','\n",
    "    for i in l:\n",
    "        i=i.strip()           # Remove spaces at the beginning and at the end of the string\n",
    "        s[i] = s.get(i, 0) + 1\n",
    "    return 1\n",
    "\n",
    "d['InvestorsName'].apply(investor_name)\n",
    "\n",
    "k=np.array(list(s.keys()))\n",
    "v=np.array(list(s.values()))\n",
    "\n",
    "ind=v.argmax()\n",
    "print(k[ind],\"with total\",v[ind], \"number of investments\\n\")"
   ]
  },
  {
   "cell_type": "code",
   "execution_count": 83,
   "id": "456cd0c2",
   "metadata": {},
   "outputs": [
    {
     "data": {
      "text/html": [
       "<div>\n",
       "<style scoped>\n",
       "    .dataframe tbody tr th:only-of-type {\n",
       "        vertical-align: middle;\n",
       "    }\n",
       "\n",
       "    .dataframe tbody tr th {\n",
       "        vertical-align: top;\n",
       "    }\n",
       "\n",
       "    .dataframe thead th {\n",
       "        text-align: right;\n",
       "    }\n",
       "</style>\n",
       "<table border=\"1\" class=\"dataframe\">\n",
       "  <thead>\n",
       "    <tr style=\"text-align: right;\">\n",
       "      <th></th>\n",
       "      <th>Investor</th>\n",
       "      <th>No. of investments</th>\n",
       "    </tr>\n",
       "  </thead>\n",
       "  <tbody>\n",
       "    <tr>\n",
       "      <th>68</th>\n",
       "      <td>Sequoia Capital</td>\n",
       "      <td>64</td>\n",
       "    </tr>\n",
       "    <tr>\n",
       "      <th>24</th>\n",
       "      <td>Accel Partners</td>\n",
       "      <td>53</td>\n",
       "    </tr>\n",
       "    <tr>\n",
       "      <th>20</th>\n",
       "      <td>Kalaari Capital</td>\n",
       "      <td>44</td>\n",
       "    </tr>\n",
       "    <tr>\n",
       "      <th>224</th>\n",
       "      <td>SAIF Partners</td>\n",
       "      <td>41</td>\n",
       "    </tr>\n",
       "    <tr>\n",
       "      <th>61</th>\n",
       "      <td>Indian Angel Network</td>\n",
       "      <td>40</td>\n",
       "    </tr>\n",
       "  </tbody>\n",
       "</table>\n",
       "</div>"
      ],
      "text/plain": [
       "                 Investor  No. of investments\n",
       "68        Sequoia Capital                  64\n",
       "24         Accel Partners                  53\n",
       "20        Kalaari Capital                  44\n",
       "224         SAIF Partners                  41\n",
       "61   Indian Angel Network                  40"
      ]
     },
     "execution_count": 83,
     "metadata": {},
     "output_type": "execute_result"
    }
   ],
   "source": [
    "t = pd.DataFrame(list(s.items()), columns = ['Investor', 'No. of investments'])\n",
    "t.sort_values(by=['No. of investments'], ascending=False, inplace=True)\n",
    "# Top 5 investors with the total number of investments made by them\n",
    "t.head(5)"
   ]
  },
  {
   "cell_type": "code",
   "execution_count": null,
   "id": "aa7fb26b",
   "metadata": {},
   "outputs": [],
   "source": []
  }
 ],
 "metadata": {
  "kernelspec": {
   "display_name": "Python 3 (ipykernel)",
   "language": "python",
   "name": "python3"
  },
  "language_info": {
   "codemirror_mode": {
    "name": "ipython",
    "version": 3
   },
   "file_extension": ".py",
   "mimetype": "text/x-python",
   "name": "python",
   "nbconvert_exporter": "python",
   "pygments_lexer": "ipython3",
   "version": "3.9.7"
  }
 },
 "nbformat": 4,
 "nbformat_minor": 5
}
